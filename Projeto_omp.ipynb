{
  "nbformat": 4,
  "nbformat_minor": 0,
  "metadata": {
    "colab": {
      "provenance": []
    },
    "kernelspec": {
      "name": "python3",
      "display_name": "Python 3"
    },
    "language_info": {
      "name": "python"
    }
  },
  "cells": [
    {
      "cell_type": "markdown",
      "source": [
        "## Informações do ambiente computacional"
      ],
      "metadata": {
        "id": "H7atnfv0KsoC"
      }
    },
    {
      "cell_type": "code",
      "source": [
        "!more /proc/cpuinfo &> processador.txt\n",
        "!more processador.txt | grep model"
      ],
      "metadata": {
        "colab": {
          "base_uri": "https://localhost:8080/"
        },
        "id": "Po3A01iuKxoh",
        "outputId": "87fd371f-e4ba-409f-95ab-b9984a21b571"
      },
      "execution_count": 76,
      "outputs": [
        {
          "output_type": "stream",
          "name": "stdout",
          "text": [
            "model\t\t: 79\n",
            "model name\t: Intel(R) Xeon(R) CPU @ 2.20GHz\n",
            "model\t\t: 79\n",
            "model name\t: Intel(R) Xeon(R) CPU @ 2.20GHz\n"
          ]
        }
      ]
    },
    {
      "cell_type": "code",
      "source": [
        "!more processador.txt | grep 'cpu core'"
      ],
      "metadata": {
        "colab": {
          "base_uri": "https://localhost:8080/"
        },
        "id": "NW5KsHZBL_VA",
        "outputId": "43640553-859d-4bd8-ed9f-0bc7f6f00bf9"
      },
      "execution_count": 77,
      "outputs": [
        {
          "output_type": "stream",
          "name": "stdout",
          "text": [
            "cpu cores\t: 1\n",
            "cpu cores\t: 1\n"
          ]
        }
      ]
    },
    {
      "cell_type": "markdown",
      "source": [
        "## Implementação sequencial"
      ],
      "metadata": {
        "id": "cw4MJMTr3Rat"
      }
    },
    {
      "cell_type": "code",
      "source": [
        "%%writefile difusao.c\n",
        "#include <stdio.h>\n",
        "#include <stdlib.h>\n",
        "#include <math.h>\n",
        "#define N 2000  // Tamanho da grade\n",
        "#define T 500 // Número de iterações no tempo\n",
        "#define D 0.1  // Coeficiente de difusão\n",
        "#define DELTA_T 0.01\n",
        "#define DELTA_X 1.0\n",
        "\n",
        "void diff_eq(double **C, double **C_new) { //diff_eq(double C[N][N], double C_new[N][N]) {\n",
        "    for (int t = 0; t < T; t++) {\n",
        "        for (int i = 1; i < N - 1; i++) {\n",
        "            for (int j = 1; j < N - 1; j++) {\n",
        "                C_new[i][j] = C[i][j] + D * DELTA_T * (\n",
        "                    (C[i+1][j] + C[i-1][j] + C[i][j+1] + C[i][j-1] - 4 * C[i][j]) / (DELTA_X * DELTA_X)\n",
        "                );\n",
        "            }\n",
        "        }\n",
        "        // Atualizar matriz para a próxima iteração\n",
        "        double difmedio = 0.;\n",
        "        for (int i = 1; i < N - 1; i++) {\n",
        "            for (int j = 1; j < N - 1; j++) {\n",
        "                difmedio += fabs(C_new[i][j] - C[i][j]);\n",
        "                C[i][j] = C_new[i][j];\n",
        "            }\n",
        "        }\n",
        "        if ((t%100) == 0)\n",
        "          printf(\"interacao %d - diferenca=%g\\n\", t, difmedio/((N-2)*(N-2)));\n",
        "    }\n",
        "}\n",
        "\n",
        "int main() {\n",
        "\n",
        "    // Concentração inicial\n",
        "    double **C = (double **)malloc(N * sizeof(double *));\n",
        "    if (C == NULL) {\n",
        "      fprintf(stderr, \"Memory allocation failed\\n\");\n",
        "      return 1;\n",
        "    }\n",
        "    for (int i = 0; i < N; i++) {\n",
        "      C[i] = (double *)malloc(N * sizeof(double));\n",
        "      if (C[i] == NULL) {\n",
        "        fprintf(stderr, \"Memory allocation failed\\n\");\n",
        "        return 1;\n",
        "      }\n",
        "    }\n",
        "    for (int i = 0; i < N; i++) {\n",
        "      for (int j = 0; j < N; j++) {\n",
        "        C[i][j] = 0.;\n",
        "      }\n",
        "    }\n",
        "\n",
        "    // Concentração para a próxima iteração\n",
        "    double **C_new = (double **)malloc(N * sizeof(double *));\n",
        "    if (C_new == NULL) {\n",
        "      fprintf(stderr, \"Memory allocation failed\\n\");\n",
        "      return 1;\n",
        "    }\n",
        "    for (int i = 0; i < N; i++) {\n",
        "      C_new[i] = (double *)malloc(N * sizeof(double));\n",
        "      if (C_new[i] == NULL) {\n",
        "        fprintf(stderr, \"Memory allocation failed\\n\");\n",
        "        return 1;\n",
        "      }\n",
        "    }\n",
        "    for (int i = 0; i < N; i++) {\n",
        "      for (int j = 0; j < N; j++) {\n",
        "        C_new[i][j] = 0.;\n",
        "      }\n",
        "    }\n",
        "\n",
        "    // Inicializar uma concentração alta no centro\n",
        "    C[N/2][N/2] = 1.0;\n",
        "\n",
        "    // Executar as iterações no tempo para a equação de difusão\n",
        "    diff_eq(C, C_new);\n",
        "\n",
        "    // Exibir resultado para verificação\n",
        "    printf(\"Concentração final no centro: %f\\n\", C[N/2][N/2]);\n",
        "    return 0;\n",
        "}"
      ],
      "metadata": {
        "colab": {
          "base_uri": "https://localhost:8080/"
        },
        "id": "lIcIFBBstw0P",
        "outputId": "582d3228-8fc0-40c6-8228-812289d2d02b"
      },
      "execution_count": 78,
      "outputs": [
        {
          "output_type": "stream",
          "name": "stdout",
          "text": [
            "Overwriting difusao.c\n"
          ]
        }
      ]
    },
    {
      "cell_type": "code",
      "source": [
        "!rm difusao.x\n",
        "!gcc difusao.c -o difusao.x\n",
        "!time ./difusao.x"
      ],
      "metadata": {
        "colab": {
          "base_uri": "https://localhost:8080/"
        },
        "id": "wkIFL_bwt9WY",
        "outputId": "3534aad1-6151-4fa4-d678-217b8b8f83ea"
      },
      "execution_count": 79,
      "outputs": [
        {
          "output_type": "stream",
          "name": "stdout",
          "text": [
            "interacao 0 - diferenca=2.00401e-09\n",
            "interacao 100 - diferenca=1.23248e-09\n",
            "interacao 200 - diferenca=7.81794e-10\n",
            "interacao 300 - diferenca=5.11528e-10\n",
            "interacao 400 - diferenca=4.21632e-10\n",
            "Concentração final no centro: 0.216512\n",
            "\n",
            "real\t0m36.649s\n",
            "user\t0m36.272s\n",
            "sys\t0m0.057s\n"
          ]
        }
      ]
    },
    {
      "cell_type": "markdown",
      "source": [
        "## Implementação com OpenMP"
      ],
      "metadata": {
        "id": "l8Tv5dpmKN7s"
      }
    },
    {
      "cell_type": "code",
      "source": [
        "%%writefile difusao_OpenMP.c\n",
        "#include <stdio.h>\n",
        "#include <stdlib.h>\n",
        "#include <math.h>\n",
        "#include <omp.h>\n",
        "#define N 2000  // Tamanho da grade\n",
        "#define T 500 // Número de iterações no tempo\n",
        "#define D 0.1  // Coeficiente de difusão\n",
        "#define DELTA_T 0.01\n",
        "#define DELTA_X 1.0\n",
        "\n",
        "void diff_eq(double **C, double **C_new) { //diff_eq(double C[N][N], double C_new[N][N]) {\n",
        "    int i, j;\n",
        "\n",
        "    for (int t = 0; t < T; t++) {\n",
        "\n",
        "        #pragma omp parallel for private(i, j) shared(C_new, C)\n",
        "        for (i = 1; i < N - 1; i++) {\n",
        "            for (j = 1; j < N - 1; j++) {\n",
        "                C_new[i][j] = C[i][j] + D * DELTA_T * (\n",
        "                    (C[i+1][j] + C[i-1][j] + C[i][j+1] + C[i][j-1] - 4 * C[i][j]) / (DELTA_X * DELTA_X)\n",
        "                );\n",
        "            }\n",
        "        }\n",
        "        // Atualizar matriz para a próxima iteração\n",
        "        double difmedio = 0.;\n",
        "\n",
        "        //Operacao de reducao por soma\n",
        "        #pragma omp parallel private(i, j) shared(C_new, C) \\\n",
        "          reduction (+:difmedio)\n",
        "        #pragma omp for\n",
        "        for ( i = 1; i < N - 1; i++) {\n",
        "            for ( j = 1; j < N - 1; j++) {\n",
        "                difmedio = difmedio + fabs(C_new[i][j] - C[i][j]);\n",
        "                C[i][j] = C_new[i][j];\n",
        "            }\n",
        "        }\n",
        "        if ((t%100) == 0)\n",
        "          printf(\"interacao %d - diferenca=%g\\n\", t, difmedio/((N-2)*(N-2)));\n",
        "    }\n",
        "}\n",
        "\n",
        "int main() {\n",
        "\n",
        "    int i, j;\n",
        "\n",
        "    // Concentração inicial\n",
        "    double **C = (double **)malloc(N * sizeof(double *));\n",
        "    if (C == NULL) {\n",
        "      fprintf(stderr, \"Memory allocation failed\\n\");\n",
        "      return 1;\n",
        "    }\n",
        "    for (i = 0; i < N; i++) {\n",
        "      C[i] = (double *)malloc(N * sizeof(double));\n",
        "      if (C[i] == NULL) {\n",
        "        fprintf(stderr, \"Memory allocation failed\\n\");\n",
        "        return 1;\n",
        "      }\n",
        "    }\n",
        "\n",
        "\n",
        "    for (i = 0; i < N; i++) {\n",
        "      for (j = 0; j < N; j++) {\n",
        "        C[i][j] = 0.;\n",
        "      }\n",
        "    }\n",
        "\n",
        "    // Concentração para a próxima iteração\n",
        "    double **C_new = (double **)malloc(N * sizeof(double *));\n",
        "    if (C_new == NULL) {\n",
        "      fprintf(stderr, \"Memory allocation failed\\n\");\n",
        "      return 1;\n",
        "    }\n",
        "    for (i = 0; i < N; i++) {\n",
        "      C_new[i] = (double *)malloc(N * sizeof(double));\n",
        "      if (C_new[i] == NULL) {\n",
        "        fprintf(stderr, \"Memory allocation failed\\n\");\n",
        "        return 1;\n",
        "      }\n",
        "    }\n",
        "\n",
        "    for (i = 0; i < N; i++) {\n",
        "      for (j = 0; j < N; j++) {\n",
        "        C_new[i][j] = 0.;\n",
        "      }\n",
        "    }\n",
        "\n",
        "    // Inicializar uma concentração alta no centro\n",
        "    C[N/2][N/2] = 1.0;\n",
        "\n",
        "    // Executar as iterações no tempo para a equação de difusão\n",
        "    diff_eq(C, C_new);\n",
        "\n",
        "    // Exibir resultado para verificação\n",
        "    printf(\"Concentração final no centro: %f\\n\", C[N/2][N/2]);\n",
        "    return 0;\n",
        "}"
      ],
      "metadata": {
        "colab": {
          "base_uri": "https://localhost:8080/"
        },
        "id": "aG_ctBsaKQ8R",
        "outputId": "d1a28372-c6ee-471a-e088-45d75e697fc8"
      },
      "execution_count": 82,
      "outputs": [
        {
          "output_type": "stream",
          "name": "stdout",
          "text": [
            "Overwriting difusao_OpenMP.c\n"
          ]
        }
      ]
    },
    {
      "cell_type": "code",
      "source": [
        "!rm difusao_OpenMP.x\n",
        "!gcc -fopenmp -o difusao_OpenMP.x difusao_OpenMP.c\n",
        "!time ./difusao_OpenMP.x"
      ],
      "metadata": {
        "colab": {
          "base_uri": "https://localhost:8080/"
        },
        "id": "X-yjaoRwKYL5",
        "outputId": "9444dbaa-7363-42b4-c4a1-c4635eb0edc6"
      },
      "execution_count": 83,
      "outputs": [
        {
          "output_type": "stream",
          "name": "stdout",
          "text": [
            "interacao 0 - diferenca=2.00401e-09\n",
            "interacao 100 - diferenca=1.23248e-09\n",
            "interacao 200 - diferenca=7.81794e-10\n",
            "interacao 300 - diferenca=5.11528e-10\n",
            "interacao 400 - diferenca=4.21632e-10\n",
            "Concentração final no centro: 0.216512\n",
            "\n",
            "real\t0m34.079s\n",
            "user\t1m0.198s\n",
            "sys\t0m0.106s\n"
          ]
        }
      ]
    }
  ]
}